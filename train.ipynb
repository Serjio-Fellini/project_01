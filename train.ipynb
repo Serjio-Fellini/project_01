{
 "cells": [
  {
   "cell_type": "code",
   "execution_count": null,
   "metadata": {
    "collapsed": true
   },
   "outputs": [],
   "source": [
    "# Задача 2.1.\n",
    "\n",
    "# Создайте две функции maximum и minimum,\n",
    "# которые получают список целых чисел в качестве входных данных\n",
    "# и возвращают наибольшее и наименьшее число в этом списке соответственно.\n",
    "# Например,\n",
    "# * [4,6,2,1,9,63,-134,566]         -> max = 566, min = -134\n",
    "# * [-52, 56, 30, 29, -54, 0, -110] -> min = -110, max = 56\n",
    "# * [42, 54, 65, 87, 0]             -> min = 0, max = 87\n",
    "# * [5]                             -> min = 5, max = 5\n",
    "# функции sorted, max и min использовать нельзя!\n",
    "\n",
    "def minimum(arr):\n",
    "    pass\n",
    "\n",
    "def maximum(arr):\n",
    "    pass\n"
   ]
  },
  {
   "cell_type": "code",
   "execution_count": null,
   "outputs": [],
   "source": [],
   "metadata": {
    "collapsed": false
   }
  },
  {
   "cell_type": "markdown",
   "source": [],
   "metadata": {
    "collapsed": false
   }
  },
  {
   "cell_type": "code",
   "execution_count": 2,
   "outputs": [
    {
     "name": "stdout",
     "output_type": "stream",
     "text": [
      "3\n"
     ]
    }
   ],
   "source": [
    "# Задача 2.2.\n",
    "\n",
    "# Напишите функцию, которая возвращает номер квартал по номеру месяца\n",
    "# Например:\n",
    "# месяц 2 (февраль) является частью первого квартала;\n",
    "# месяц 6 (июнь) является частью второго квартала;\n",
    "# месяц 11 (ноябрь) является частью четвертого квартала.\n",
    "\n",
    "\n",
    "\n",
    "def quarter_of(month):\n",
    "    pass\n",
    "num_mes=input(\"Введите номер месяца\")\n",
    "import math\n",
    "print(math.ceil(2.2))"
   ],
   "metadata": {
    "collapsed": false
   }
  },
  {
   "cell_type": "code",
   "execution_count": 64,
   "outputs": [
    {
     "name": "stdout",
     "output_type": "stream",
     "text": [
      "Месяц 6 (Июнь) является частью третьего квартала\n"
     ]
    }
   ],
   "source": [
    "import datetime\n",
    "import locale\n",
    "import math\n",
    "locale.setlocale(locale.LC_TIME, 'ru')\n",
    "ochered = [\"первого\", \"второго\", \"третьего\", \"четвертого\"]\n",
    "def quarter_of(month): print(f'Месяц {month} ({(datetime.date(1, month, 1)).strftime(\"%B\")}) является частью {ochered[math.ceil(month/3)]} квартала')\n",
    "#    pass\n",
    "# Запрашиваем ввод месяца и переводим полученное в формат целого числа\n",
    "\n",
    "month=int(input(\"Введите номер месяца:\",))\n",
    "# Проверяем принадлежность введенного числа допустимому диапазону\n",
    "if month<1:\n",
    "    print(\"Такого месяца нет!\")\n",
    "elif month>12:\n",
    "    print(\"Такого месяца нет!\")\n",
    "else:\n",
    "    quarter_of(month)\n"
   ],
   "metadata": {
    "collapsed": false
   }
  }
 ],
 "metadata": {
  "kernelspec": {
   "display_name": "Python 3",
   "language": "python",
   "name": "python3"
  },
  "language_info": {
   "codemirror_mode": {
    "name": "ipython",
    "version": 2
   },
   "file_extension": ".py",
   "mimetype": "text/x-python",
   "name": "python",
   "nbconvert_exporter": "python",
   "pygments_lexer": "ipython2",
   "version": "2.7.6"
  }
 },
 "nbformat": 4,
 "nbformat_minor": 0
}
