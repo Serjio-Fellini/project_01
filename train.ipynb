{
 "cells": [
  {
   "cell_type": "code",
   "execution_count": null,
   "outputs": [],
   "source": [
    "def pick(l: \"list of ints\", index:\n",
    "int = 0) -> int:\n",
    "    return l[index]\n",
    "print(pick([1,2,3,],2))\n"
   ],
   "metadata": {
    "collapsed": false,
    "pycharm": {
     "name": "#%%\n"
    }
   }
  },
  {
   "cell_type": "code",
   "execution_count": null,
   "outputs": [],
   "source": [
    "\n",
    "print(sum([.1, .1, .1, .1, .1, .1, .1, .1, .1, .1]))\n",
    "print(math.fsum([.1, .1, .1, .1, .1, .1, .1, .1, .1, .1]))\n"
   ],
   "metadata": {
    "collapsed": false,
    "pycharm": {
     "name": "#%%\n"
    }
   }
  },
  {
   "cell_type": "code",
   "execution_count": null,
   "outputs": [],
   "source": [
    "import sys\n",
    "from pprint import pprint\n",
    "pprint(sys.path)"
   ],
   "metadata": {
    "collapsed": false,
    "pycharm": {
     "name": "#%%\n"
    }
   }
  },
  {
   "cell_type": "code",
   "execution_count": null,
   "outputs": [],
   "source": [
    "l = [1, 2, 3]\n",
    "l.extend('abc')\n",
    "print(l)\n"
   ],
   "metadata": {
    "collapsed": false,
    "pycharm": {
     "name": "#%%\n"
    }
   }
  },
  {
   "cell_type": "code",
   "execution_count": null,
   "outputs": [],
   "source": [
    "for i in (3, 2):\n",
    "\tprint(i)"
   ],
   "metadata": {
    "collapsed": false,
    "pycharm": {
     "name": "#%%\n"
    }
   }
  },
  {
   "cell_type": "code",
   "execution_count": null,
   "outputs": [],
   "source": [
    "from math import pi\n",
    "print(pi)"
   ],
   "metadata": {
    "collapsed": false,
    "pycharm": {
     "name": "#%%\n"
    }
   }
  },
  {
   "cell_type": "code",
   "execution_count": 2,
   "outputs": [
    {
     "name": "stdout",
     "output_type": "stream",
     "text": [
      "Значение числа pi: 3.1415927\n"
     ]
    }
   ],
   "source": [
    "from math import pi\n",
    "print(f\"Значение числа pi: {pi:.7f}\")\n",
    "#Значение числа pi: 3.14"
   ],
   "metadata": {
    "collapsed": false,
    "pycharm": {
     "name": "#%%\n"
    }
   }
  },
  {
   "cell_type": "code",
   "execution_count": 1,
   "outputs": [
    {
     "ename": "NameError",
     "evalue": "name 'a1' is not defined",
     "output_type": "error",
     "traceback": [
      "\u001B[1;31m---------------------------------------------------------------------------\u001B[0m",
      "\u001B[1;31mNameError\u001B[0m                                 Traceback (most recent call last)",
      "Cell \u001B[1;32mIn[1], line 7\u001B[0m\n\u001B[0;32m      2\u001B[0m content_type \u001B[38;5;241m=\u001B[39m \u001B[38;5;28mint\u001B[39m()\n\u001B[0;32m      3\u001B[0m content \u001B[38;5;241m=\u001B[39m \u001B[38;5;241m1\u001B[39m\n\u001B[0;32m      5\u001B[0m \u001B[38;5;28mprint\u001B[39m(\n\u001B[0;32m      6\u001B[0m \u001B[38;5;124m'\u001B[39m\u001B[38;5;124mИмена класса Cell:\u001B[39m\u001B[38;5;124m'\u001B[39m, Cell\u001B[38;5;241m.\u001B[39m\u001B[38;5;18m__dict__\u001B[39m,\n\u001B[1;32m----> 7\u001B[0m \u001B[38;5;124m'\u001B[39m\u001B[38;5;124mИмена ячейки a1:\u001B[39m\u001B[38;5;124m'\u001B[39m, \u001B[43ma1\u001B[49m\u001B[38;5;241m.\u001B[39m\u001B[38;5;18m__dict__\u001B[39m,\n\u001B[0;32m      8\u001B[0m \u001B[38;5;124m'\u001B[39m\u001B[38;5;124mИмена ячейки a1:\u001B[39m\u001B[38;5;124m'\u001B[39m, b1\u001B[38;5;241m.\u001B[39m\u001B[38;5;18m__dict__\u001B[39m,\n\u001B[0;32m      9\u001B[0m sep\u001B[38;5;241m=\u001B[39m\u001B[38;5;124m'\u001B[39m\u001B[38;5;130;01m\\n\u001B[39;00m\u001B[38;5;124m'\u001B[39m, end\u001B[38;5;241m=\u001B[39m\u001B[38;5;124m'\u001B[39m\u001B[38;5;130;01m\\n\u001B[39;00m\u001B[38;5;130;01m\\n\u001B[39;00m\u001B[38;5;124m'\u001B[39m)\n",
      "\u001B[1;31mNameError\u001B[0m: name 'a1' is not defined"
     ]
    }
   ],
   "source": [
    "class Cell:'''Ячейка'''\n",
    "content_type = int()\n",
    "content = 1\n",
    "\n",
    "print(\n",
    "'Имена класса Cell:', Cell.__dict__,\n",
    "'Имена ячейки a1:', a1.__dict__,\n",
    "'Имена ячейки a1:', b1.__dict__,\n",
    "sep='\\n', end='\\n\\n')\n"
   ],
   "metadata": {
    "collapsed": false,
    "pycharm": {
     "name": "#%%\n"
    }
   }
  },
  {
   "cell_type": "code",
   "execution_count": null,
   "outputs": [],
   "source": [
    "pip list"
   ],
   "metadata": {
    "collapsed": false,
    "pycharm": {
     "name": "#%%\n"
    }
   }
  }
 ],
 "metadata": {
  "kernelspec": {
   "display_name": "Python 3",
   "language": "python",
   "name": "python3"
  },
  "language_info": {
   "codemirror_mode": {
    "name": "ipython",
    "version": 2
   },
   "file_extension": ".py",
   "mimetype": "text/x-python",
   "name": "python",
   "nbconvert_exporter": "python",
   "pygments_lexer": "ipython2",
   "version": "2.7.6"
  }
 },
 "nbformat": 4,
 "nbformat_minor": 0
}