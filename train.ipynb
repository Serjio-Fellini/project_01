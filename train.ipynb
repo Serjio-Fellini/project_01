{
 "cells": [
  {
   "cell_type": "code",
   "execution_count": null,
   "outputs": [],
   "source": [
    "# Задача 2.1.\n",
    "\n",
    "# Создайте две функции maximum и minimum,\n",
    "# которые получают список целых чисел в качестве входных данных\n",
    "# и возвращают наибольшее и наименьшее число в этом списке соответственно.\n",
    "# Например,\n",
    "# * [4,6,2,1,9,63,-134,566]         -> max = 566, min = -134\n",
    "# * [-52, 56, 30, 29, -54, 0, -110] -> min = -110, max = 56\n",
    "# * [42, 54, 65, 87, 0]             -> min = 0, max = 87\n",
    "# * [5]                             -> min = 5, max = 5\n",
    "# функции sorted, max и min использовать нельзя!\n",
    "\n",
    "arr=[4,6,2,1,9,63,-134,566]\n",
    "\n",
    "def minimum(arr):\n",
    "    min_number = arr[0]\n",
    "    print(min_number)\n",
    "    for i in arr[1:]:\n",
    "        if i < min_number:\n",
    "            min_number = i\n",
    "    return min_number\n",
    "\n",
    "def maximum(arr):\n",
    "    max_number = arr[0]\n",
    "    for j in arr[1:]:\n",
    "        if j > max_number:\n",
    "            max_number = j\n",
    "    print(max_number)\n",
    "    return max_number\n",
    "\n",
    "# print(f'Месяц {month} ({(datetime.date(1, month, 1)).strftime(\"%B\")}) является частью {ochered[math.ceil(month/3)]} квартала')\n",
    "#print(f'arr= {arr} \" -> max = \" {max_number}')\n"
   ],
   "metadata": {
    "collapsed": false,
    "pycharm": {
     "name": "#%%\n"
    }
   }
  },
  {
   "cell_type": "markdown",
   "source": [],
   "metadata": {
    "collapsed": false,
    "pycharm": {
     "name": "#%% md\n"
    }
   }
  },
  {
   "cell_type": "code",
   "execution_count": null,
   "outputs": [],
   "source": [],
   "metadata": {
    "collapsed": false,
    "pycharm": {
     "name": "#%%\n"
    }
   }
  },
  {
   "cell_type": "markdown",
   "source": [],
   "metadata": {
    "collapsed": false,
    "pycharm": {
     "name": "#%% md\n"
    }
   }
  },
  {
   "cell_type": "code",
   "execution_count": null,
   "outputs": [],
   "source": [
    "# Задача 2.2.\n",
    "\n",
    "# Напишите функцию, которая возвращает номер квартал по номеру месяца\n",
    "# Например:\n",
    "# месяц 2 (февраль) является частью первого квартала;\n",
    "# месяц 6 (июнь) является частью второго квартала;\n",
    "# месяц 11 (ноябрь) является частью четвертого квартала.\n",
    "\n",
    "import datetime\n",
    "import locale\n",
    "import math\n",
    "locale.setlocale(locale.LC_TIME, 'ru')\n",
    "ochered = [\"первого\", \"второго\", \"третьего\", \"четвертого\"]\n",
    "def quarter_of(month): print(f'Месяц {month} ({(datetime.date(1, month, 1)).strftime(\"%B\")}) является частью {ochered[math.ceil(month/3)]} квартала')\n",
    "#    pass\n",
    "# Запрашиваем ввод месяца и переводим полученное в формат целого числа\n",
    "\n",
    "month=int(input(\"Введите номер месяца:\",))\n",
    "# Проверяем принадлежность введенного числа допустимому диапазону\n",
    "if month<1:\n",
    "    print(\"Такого месяца нет!\")\n",
    "elif month>12:\n",
    "    print(\"Такого месяца нет!\")\n",
    "else:\n",
    "    quarter_of(month)"
   ],
   "metadata": {
    "collapsed": false,
    "pycharm": {
     "name": "#%%\n"
    }
   }
  },
  {
   "cell_type": "code",
   "execution_count": null,
   "outputs": [],
   "source": [],
   "metadata": {
    "collapsed": false,
    "pycharm": {
     "name": "#%%\n"
    }
   }
  },
  {
   "cell_type": "markdown",
   "source": [],
   "metadata": {
    "collapsed": false
   }
  },
  {
   "cell_type": "code",
   "execution_count": null,
   "outputs": [],
   "source": [],
   "metadata": {
    "collapsed": false
   }
  },
  {
   "cell_type": "markdown",
   "source": [],
   "metadata": {
    "collapsed": false
   }
  },
  {
   "cell_type": "code",
   "execution_count": 65,
   "outputs": [
    {
     "name": "stdout",
     "output_type": "stream",
     "text": [
      "Месяц 3 (Март) является частью второго квартала\n"
     ]
    }
   ],
   "source": [
    "# Задача 2.2.\n",
    "\n",
    "# Напишите функцию, которая возвращает номер квартал по номеру месяца\n",
    "# Например:\n",
    "# месяц 2 (февраль) является частью первого квартала;\n",
    "# месяц 6 (июнь) является частью второго квартала;\n",
    "# месяц 11 (ноябрь) является частью четвертого квартала.\n",
    "\n",
    "import datetime\n",
    "import locale\n",
    "import math\n",
    "locale.setlocale(locale.LC_TIME, 'ru')\n",
    "ochered = [\"первого\", \"второго\", \"третьего\", \"четвертого\"]\n",
    "def quarter_of(month): print(f'Месяц {month} ({(datetime.date(1, month, 1)).strftime(\"%B\")}) является частью {ochered[math.ceil(month/3)]} квартала')\n",
    "#    pass\n",
    "# Запрашиваем ввод месяца и переводим полученное в формат целого числа\n",
    "\n",
    "month=int(input(\"Введите номер месяца:\",))\n",
    "# Проверяем принадлежность введенного числа допустимому диапазону\n",
    "if month<1:\n",
    "    print(\"Такого месяца нет!\")\n",
    "elif month>12:\n",
    "    print(\"Такого месяца нет!\")\n",
    "else:\n",
    "    quarter_of(month)"
   ],
   "metadata": {
    "collapsed": false
   }
  },
  {
   "cell_type": "code",
   "execution_count": 74,
   "outputs": [],
   "source": [],
   "metadata": {
    "collapsed": false
   }
  }
 ],
 "metadata": {
  "kernelspec": {
   "display_name": "Python 3",
   "language": "python",
   "name": "python3"
  },
  "language_info": {
   "codemirror_mode": {
    "name": "ipython",
    "version": 2
   },
   "file_extension": ".py",
   "mimetype": "text/x-python",
   "name": "python",
   "nbconvert_exporter": "python",
   "pygments_lexer": "ipython2",
   "version": "2.7.6"
  }
 },
 "nbformat": 4,
 "nbformat_minor": 0
}