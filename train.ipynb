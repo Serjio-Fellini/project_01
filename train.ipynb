{
 "cells": [
  {
   "cell_type": "code",
   "execution_count": null,
   "outputs": [],
   "source": [
    "def pick(l: \"list of ints\", index:\n",
    "int = 0) -> int:\n",
    "    return l[index]\n",
    "print(pick([1,2,3,],2))\n"
   ],
   "metadata": {
    "collapsed": false,
    "pycharm": {
     "name": "#%%\n"
    }
   }
  },
  {
   "cell_type": "code",
   "execution_count": null,
   "outputs": [],
   "source": [
    "\n",
    "print(sum([.1, .1, .1, .1, .1, .1, .1, .1, .1, .1]))\n",
    "print(math.fsum([.1, .1, .1, .1, .1, .1, .1, .1, .1, .1]))\n"
   ],
   "metadata": {
    "collapsed": false,
    "pycharm": {
     "name": "#%%\n"
    }
   }
  },
  {
   "cell_type": "code",
   "execution_count": null,
   "outputs": [],
   "source": [
    "import sys\n",
    "from pprint import pprint\n",
    "pprint(sys.path)"
   ],
   "metadata": {
    "collapsed": false,
    "pycharm": {
     "name": "#%%\n"
    }
   }
  },
  {
   "cell_type": "code",
   "execution_count": null,
   "outputs": [],
   "source": [
    "l = [1, 2, 3]\n",
    "l.extend('abc')\n",
    "print(l)\n"
   ],
   "metadata": {
    "collapsed": false,
    "pycharm": {
     "name": "#%%\n"
    }
   }
  },
  {
   "cell_type": "code",
   "execution_count": null,
   "outputs": [],
   "source": [
    "for i in (3, 2):\n",
    "\tprint(i)"
   ],
   "metadata": {
    "collapsed": false,
    "pycharm": {
     "name": "#%%\n"
    }
   }
  },
  {
   "cell_type": "code",
   "execution_count": null,
   "outputs": [],
   "source": [
    "from math import pi\n",
    "print(pi)"
   ],
   "metadata": {
    "collapsed": false,
    "pycharm": {
     "name": "#%%\n"
    }
   }
  },
  {
   "cell_type": "code",
   "execution_count": 2,
   "outputs": [
    {
     "name": "stdout",
     "output_type": "stream",
     "text": [
      "Значение числа pi: 3.1415927\n"
     ]
    }
   ],
   "source": [
    "from math import pi\n",
    "print(f\"Значение числа pi: {pi:.7f}\")\n",
    "#Значение числа pi: 3.14"
   ],
   "metadata": {
    "collapsed": false,
    "pycharm": {
     "name": "#%%\n"
    }
   }
  },
  {
   "cell_type": "code",
   "execution_count": 1,
   "outputs": [
    {
     "ename": "NameError",
     "evalue": "name 'a1' is not defined",
     "output_type": "error",
     "traceback": [
      "\u001B[1;31m---------------------------------------------------------------------------\u001B[0m",
      "\u001B[1;31mNameError\u001B[0m                                 Traceback (most recent call last)",
      "Cell \u001B[1;32mIn[1], line 7\u001B[0m\n\u001B[0;32m      2\u001B[0m content_type \u001B[38;5;241m=\u001B[39m \u001B[38;5;28mint\u001B[39m()\n\u001B[0;32m      3\u001B[0m content \u001B[38;5;241m=\u001B[39m \u001B[38;5;241m1\u001B[39m\n\u001B[0;32m      5\u001B[0m \u001B[38;5;28mprint\u001B[39m(\n\u001B[0;32m      6\u001B[0m \u001B[38;5;124m'\u001B[39m\u001B[38;5;124mИмена класса Cell:\u001B[39m\u001B[38;5;124m'\u001B[39m, Cell\u001B[38;5;241m.\u001B[39m\u001B[38;5;18m__dict__\u001B[39m,\n\u001B[1;32m----> 7\u001B[0m \u001B[38;5;124m'\u001B[39m\u001B[38;5;124mИмена ячейки a1:\u001B[39m\u001B[38;5;124m'\u001B[39m, \u001B[43ma1\u001B[49m\u001B[38;5;241m.\u001B[39m\u001B[38;5;18m__dict__\u001B[39m,\n\u001B[0;32m      8\u001B[0m \u001B[38;5;124m'\u001B[39m\u001B[38;5;124mИмена ячейки a1:\u001B[39m\u001B[38;5;124m'\u001B[39m, b1\u001B[38;5;241m.\u001B[39m\u001B[38;5;18m__dict__\u001B[39m,\n\u001B[0;32m      9\u001B[0m sep\u001B[38;5;241m=\u001B[39m\u001B[38;5;124m'\u001B[39m\u001B[38;5;130;01m\\n\u001B[39;00m\u001B[38;5;124m'\u001B[39m, end\u001B[38;5;241m=\u001B[39m\u001B[38;5;124m'\u001B[39m\u001B[38;5;130;01m\\n\u001B[39;00m\u001B[38;5;130;01m\\n\u001B[39;00m\u001B[38;5;124m'\u001B[39m)\n",
      "\u001B[1;31mNameError\u001B[0m: name 'a1' is not defined"
     ]
    }
   ],
   "source": [
    "class Cell:'''Ячейка'''\n",
    "content_type = int()\n",
    "content = 1\n",
    "\n",
    "print(\n",
    "'Имена класса Cell:', Cell.__dict__,\n",
    "'Имена ячейки a1:', a1.__dict__,\n",
    "'Имена ячейки a1:', b1.__dict__,\n",
    "sep='\\n', end='\\n\\n')\n"
   ],
   "metadata": {
    "collapsed": false,
    "pycharm": {
     "name": "#%%\n"
    }
   }
  },
  {
   "cell_type": "code",
   "execution_count": 4,
   "outputs": [],
   "source": [
    "from sys import stdin\n",
    "from copy import deepcopy\n",
    "\n",
    "\n",
    "class Matrix:\n",
    "    def __init__(self, matrix):\n",
    "        self.matrix = deepcopy(matrix)\n",
    "\n",
    "    def __str__(self):  # без аргументов\n",
    "        return '\\n'.join(['\\t'.join(map(str, list)) for list in self.matrix])\n",
    "\n",
    "    def __add__(self, other):\n",
    "        return Matrix()\n",
    "\n",
    "    def size(self):  # без аргументов!\n",
    "        return (len(self.matrix), len(self.matrix[0]))\n",
    "\n",
    "    def __add__(self, other):\n",
    "        return Matrix(list(map(\n",
    "                        lambda x, y: list(map(lambda z, w: z + w, x, y)),\n",
    "                        self.matrix, other.matrix)))\n",
    "\n",
    "    def __mul__(self, other):\n",
    "        return Matrix([[i * other for i in list] for list in self.matrix])\n",
    "\n",
    "    __rmul__ = __mul__\n",
    "\n",
    "\n",
    "exec(stdin.read())"
   ],
   "metadata": {
    "collapsed": false,
    "pycharm": {
     "name": "#%%\n"
    }
   }
  },
  {
   "cell_type": "code",
   "execution_count": null,
   "outputs": [],
   "source": [
    "# Задача 3.1.\n",
    "# Создайте класс матрицы (или таблицы).\n",
    "# Требования к классу:\n",
    "#   - каждая колонка является числом от 1 до n (n любое число, которые вы поставите!)\n",
    "#   - в каждой ячейке содержится либо число, либо None\n",
    "#   - доступы следующие методы матрицы:\n",
    "#       * принимать новые значения,\n",
    "#       * заменять существующие значения,\n",
    "#       * выводить число строк и колонок.\n",
    "\n",
    "# Пример матрицы 10 на 10 из единиц:\n",
    "# [[1, 1, 1, 1, 1, 1, 1, 1, 1, 1],\n",
    "#  [1, 1, 1, 1, 1, 1, 1, 1, 1, 1],\n",
    "#  [1, 1, 1, 1, 1, 1, 1, 1, 1, 1],\n",
    "#  [1, 1, 1, 1, 1, 1, 1, 1, 1, 1],\n",
    "#  [1, 1, 1, 1, 1, 1, 1, 1, 1, 1],\n",
    "#  [1, 1, 1, 1, 1, 1, 1, 1, 1, 1],\n",
    "#  [1, 1, 1, 1, 1, 1, 1, 1, 1, 1],\n",
    "#  [1, 1, 1, 1, 1, 1, 1, 1, 1, 1],\n",
    "#  [1, 1, 1, 1, 1, 1, 1, 1, 1, 1],\n",
    "#  [1, 1, 1, 1, 1, 1, 1, 1, 1, 1]]\n",
    "\n",
    "# Примечание!\n",
    "#   - новый класс не запрещено строить на базе существующих типов данных: списков, словарей и тд.\n",
    "#   - отображать в таблице/матрице название колонки не обязательно!\n",
    "#   - использовать готовые классы numpy.array() и pandas.DataFrame() запрещено!\n",
    "#   - проявите фантазию :)\n",
    "\n"
   ],
   "metadata": {
    "collapsed": false,
    "pycharm": {
     "name": "#%%\n"
    }
   }
  },
  {
   "cell_type": "code",
   "execution_count": null,
   "outputs": [],
   "source": [
    "# Задача 3.1.\n",
    "# Создайте класс матрицы (или таблицы).\n",
    "# Требования к классу:\n",
    "#   - каждая колонка является числом от 1 до n (n любое число, которые вы поставите!)\n",
    "#   - в каждой ячейке содержится либо число, либо None\n",
    "#   - доступы следующие методы матрицы:\n",
    "#       * принимать новые значения,\n",
    "#       * заменять существующие значения,\n",
    "#       * выводить число строк и колонок.\n",
    "\n",
    "# Пример матрицы 10 на 10 из единиц:\n",
    "# [[1, 1, 1, 1, 1, 1, 1, 1, 1, 1],\n",
    "#  [1, 1, 1, 1, 1, 1, 1, 1, 1, 1],\n",
    "#  [1, 1, 1, 1, 1, 1, 1, 1, 1, 1],\n",
    "#  [1, 1, 1, 1, 1, 1, 1, 1, 1, 1],\n",
    "#  [1, 1, 1, 1, 1, 1, 1, 1, 1, 1],\n",
    "#  [1, 1, 1, 1, 1, 1, 1, 1, 1, 1],\n",
    "#  [1, 1, 1, 1, 1, 1, 1, 1, 1, 1],\n",
    "#  [1, 1, 1, 1, 1, 1, 1, 1, 1, 1],\n",
    "#  [1, 1, 1, 1, 1, 1, 1, 1, 1, 1],\n",
    "#  [1, 1, 1, 1, 1, 1, 1, 1, 1, 1]]\n",
    "\n",
    "# Примечание!\n",
    "#   - новый класс не запрещено строить на базе существующих типов данных: списков, словарей и тд.\n",
    "#   - отображать в таблице/матрице название колонки не обязательно!\n",
    "#   - использовать готовые классы numpy.array() и pandas.DataFrame() запрещено!\n",
    "#   - проявите фантазию :)\n",
    "\n",
    "class Matrix:\n",
    "    def __init__(self, value, rows, cols):\n",
    "        self.field = [[value for _ in range(cols)] for _ in range(rows)]\n",
    "        self.rows = rows\n",
    "        self.cols = cols\n",
    "        self.value = value\n",
    "\n",
    "    def get_value(self, row, col):\n",
    "        if row in range(self.rows) and col in range(self.cols):\n",
    "            return self.field[row][col]\n",
    "        return\n",
    "\n",
    "    def set_value(self, row, col, value):\n",
    "        self.field[row][col] = value\n",
    "\n",
    "    def n_rows(self):\n",
    "        return self.rows\n",
    "\n",
    "    def n_cols(self):\n",
    "        return self.cols\n",
    "\n",
    "\n",
    "table = Matrix(9, 5, 5)\n",
    "table.set_value(1, 2, 3)\n",
    "for i in range(table.n_rows()):\n",
    "    for j in range(table.n_cols()):\n",
    "        print(table.get_value(i, j), end=' ')\n",
    "    print()\n"
   ],
   "metadata": {
    "collapsed": false,
    "pycharm": {
     "name": "#%%\n"
    }
   }
  }
 ],
 "metadata": {
  "kernelspec": {
   "display_name": "Python 3",
   "language": "python",
   "name": "python3"
  },
  "language_info": {
   "codemirror_mode": {
    "name": "ipython",
    "version": 2
   },
   "file_extension": ".py",
   "mimetype": "text/x-python",
   "name": "python",
   "nbconvert_exporter": "python",
   "pygments_lexer": "ipython2",
   "version": "2.7.6"
  }
 },
 "nbformat": 4,
 "nbformat_minor": 0
}